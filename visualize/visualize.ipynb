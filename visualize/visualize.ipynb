{
 "cells": [
  {
   "cell_type": "code",
   "execution_count": 1,
   "metadata": {},
   "outputs": [],
   "source": [
    "import json\n",
    "import glob\n",
    "import pandas as pd\n",
    "import kiwi"
   ]
  },
  {
   "cell_type": "code",
   "execution_count": 3,
   "metadata": {},
   "outputs": [
    {
     "data": {
      "text/html": [
       "<div>\n",
       "<style scoped>\n",
       "    .dataframe tbody tr th:only-of-type {\n",
       "        vertical-align: middle;\n",
       "    }\n",
       "\n",
       "    .dataframe tbody tr th {\n",
       "        vertical-align: top;\n",
       "    }\n",
       "\n",
       "    .dataframe thead th {\n",
       "        text-align: right;\n",
       "    }\n",
       "</style>\n",
       "<table border=\"1\" class=\"dataframe\">\n",
       "  <thead>\n",
       "    <tr style=\"text-align: right;\">\n",
       "      <th></th>\n",
       "      <th>문장</th>\n",
       "      <th>대상하이라이트</th>\n",
       "    </tr>\n",
       "  </thead>\n",
       "  <tbody>\n",
       "    <tr>\n",
       "      <th>117</th>\n",
       "      <td>대명 천지에 이렇게 ''미개한''' 종교가 있나?</td>\n",
       "      <td>대명 천지에 이렇게 미개한 ''종교'''가 있나?</td>\n",
       "    </tr>\n",
       "    <tr>\n",
       "      <th>253</th>\n",
       "      <td>#@이름#의 이름으로 포교활동가는 개신교인들 없냐?  폭력에 굴하지 않는 #@이름#...</td>\n",
       "      <td>''#@이름#'''의 이름으로 포교활동가는 ''개신교'''인들 없냐?  폭력에 굴하...</td>\n",
       "    </tr>\n",
       "    <tr>\n",
       "      <th>255</th>\n",
       "      <td>#@이름# ''견찰'''이 815에 광화문에서 했던건데 탈레반도 하네 ㅎㅎ</td>\n",
       "      <td>#@이름# ''견찰'''이 815에 광화문에서 했던건데 ''탈레반'''도 하네 ㅎㅎ</td>\n",
       "    </tr>\n",
       "    <tr>\n",
       "      <th>303</th>\n",
       "      <td>근데 예맨애들 제주도에 들어와서 그대로 있냐?  이슬람 애들 늘어서 좋을거 하나 없는데</td>\n",
       "      <td>근데 ''예맨애'''들 제주도에 들어와서 그대로 있냐? ''이슬람 애'''들 늘어서...</td>\n",
       "    </tr>\n",
       "    <tr>\n",
       "      <th>319</th>\n",
       "      <td>탈레반은 말을 거꾸로하는 희한한 습관이 있네 반대파를 용서하고 복수는 없다 두려워말...</td>\n",
       "      <td>''탈레반'''은 말을 거꾸로하는 희한한 습관이 있네 반대파를 용서하고 복수는 없다...</td>\n",
       "    </tr>\n",
       "    <tr>\n",
       "      <th>...</th>\n",
       "      <td>...</td>\n",
       "      <td>...</td>\n",
       "    </tr>\n",
       "    <tr>\n",
       "      <th>9796</th>\n",
       "      <td>어떤''새끼'''가 희열을 느낀다.미얀하다.고맙다라고 했던가! 그''새끼'''가 탈레반</td>\n",
       "      <td>어떤새끼가 희열을 느낀다.미얀하다.고맙다라고 했던가! 그새끼가 탈레반</td>\n",
       "    </tr>\n",
       "    <tr>\n",
       "      <th>9812</th>\n",
       "      <td>''개톨릭'''의 민낯이 드러났다. 사단의 무리들이 아니고서야 어찌 어린 영혼을 말...</td>\n",
       "      <td>''개톨릭'''의 민낯이 드러났다. 사단의 무리들이 아니고서야 어찌 어린 영혼을 말...</td>\n",
       "    </tr>\n",
       "    <tr>\n",
       "      <th>9845</th>\n",
       "      <td>한국 기독교 부동산소유 밝히면 재밌을듯</td>\n",
       "      <td>''한국 기독교''' 부동산소유 밝히면 재밌을듯</td>\n",
       "    </tr>\n",
       "    <tr>\n",
       "      <th>9918</th>\n",
       "      <td>이제 중국바이러스 없어지길 기대하는건 바보같은 생각. 온갖 변이가 판치는 판국에 백...</td>\n",
       "      <td>이제 중국바이러스 없어지길 기대하는건 바보같은 생각. 온갖 변이가 판치는 판국에 백...</td>\n",
       "    </tr>\n",
       "    <tr>\n",
       "      <th>9933</th>\n",
       "      <td>탈레반이 주장하는 것은 종교가 아니라 그들만의 독재체제임 저딴 게 종교라면 신은 이...</td>\n",
       "      <td>''탈레반'''이 주장하는 것은 종교가 아니라 그들만의 독재체제임 저딴 게 종교라면...</td>\n",
       "    </tr>\n",
       "  </tbody>\n",
       "</table>\n",
       "<p>102 rows × 2 columns</p>\n",
       "</div>"
      ],
      "text/plain": [
       "                                                     문장  \\\n",
       "117                         대명 천지에 이렇게 ''미개한''' 종교가 있나?   \n",
       "253   #@이름#의 이름으로 포교활동가는 개신교인들 없냐?  폭력에 굴하지 않는 #@이름#...   \n",
       "255           #@이름# ''견찰'''이 815에 광화문에서 했던건데 탈레반도 하네 ㅎㅎ   \n",
       "303    근데 예맨애들 제주도에 들어와서 그대로 있냐?  이슬람 애들 늘어서 좋을거 하나 없는데   \n",
       "319   탈레반은 말을 거꾸로하는 희한한 습관이 있네 반대파를 용서하고 복수는 없다 두려워말...   \n",
       "...                                                 ...   \n",
       "9796   어떤''새끼'''가 희열을 느낀다.미얀하다.고맙다라고 했던가! 그''새끼'''가 탈레반   \n",
       "9812  ''개톨릭'''의 민낯이 드러났다. 사단의 무리들이 아니고서야 어찌 어린 영혼을 말...   \n",
       "9845                              한국 기독교 부동산소유 밝히면 재밌을듯   \n",
       "9918  이제 중국바이러스 없어지길 기대하는건 바보같은 생각. 온갖 변이가 판치는 판국에 백...   \n",
       "9933  탈레반이 주장하는 것은 종교가 아니라 그들만의 독재체제임 저딴 게 종교라면 신은 이...   \n",
       "\n",
       "                                                대상하이라이트  \n",
       "117                         대명 천지에 이렇게 미개한 ''종교'''가 있나?  \n",
       "253   ''#@이름#'''의 이름으로 포교활동가는 ''개신교'''인들 없냐?  폭력에 굴하...  \n",
       "255      #@이름# ''견찰'''이 815에 광화문에서 했던건데 ''탈레반'''도 하네 ㅎㅎ  \n",
       "303   근데 ''예맨애'''들 제주도에 들어와서 그대로 있냐? ''이슬람 애'''들 늘어서...  \n",
       "319   ''탈레반'''은 말을 거꾸로하는 희한한 습관이 있네 반대파를 용서하고 복수는 없다...  \n",
       "...                                                 ...  \n",
       "9796             어떤새끼가 희열을 느낀다.미얀하다.고맙다라고 했던가! 그새끼가 탈레반  \n",
       "9812  ''개톨릭'''의 민낯이 드러났다. 사단의 무리들이 아니고서야 어찌 어린 영혼을 말...  \n",
       "9845                         ''한국 기독교''' 부동산소유 밝히면 재밌을듯  \n",
       "9918  이제 중국바이러스 없어지길 기대하는건 바보같은 생각. 온갖 변이가 판치는 판국에 백...  \n",
       "9933  ''탈레반'''이 주장하는 것은 종교가 아니라 그들만의 독재체제임 저딴 게 종교라면...  \n",
       "\n",
       "[102 rows x 2 columns]"
      ]
     },
     "execution_count": 3,
     "metadata": {},
     "output_type": "execute_result"
    }
   ],
   "source": [
    "def load_data(file_path):\n",
    "    with open(file_path, 'r', encoding='utf-8-sig') as f:\n",
    "        data = json.load(f)\n",
    "    return data\n",
    "\n",
    "path = glob.glob('dataset/*.json')[:10000]\n",
    "df = []\n",
    "for p in path:\n",
    "\tdf.append(load_data(p))\n",
    "df = pd.DataFrame(df)\n",
    "df = df[(df['종교']==1)&(df['정치성향Y/N']!='Y')]\n",
    "df = df[['문장', '대상하이라이트']]\n",
    "df"
   ]
  },
  {
   "cell_type": "code",
   "execution_count": 4,
   "metadata": {},
   "outputs": [
    {
     "data": {
      "text/plain": [
       "102"
      ]
     },
     "execution_count": 4,
     "metadata": {},
     "output_type": "execute_result"
    }
   ],
   "source": [
    "# 특수 문자 제거\n",
    "df.loc[:, '문장'] = df['문장'].str.replace(\"[^ㄱ-ㅎㅏ-ㅣ가-힣 0-9]\", \"\", regex=True)\n",
    "\n",
    "# 빈 문자열 제거\n",
    "df = df[df['문장'].str.strip() != '']\n",
    "\n",
    "len(df)"
   ]
  },
  {
   "cell_type": "code",
   "execution_count": 5,
   "metadata": {},
   "outputs": [
    {
     "ename": "AttributeError",
     "evalue": "module 'kiwi' has no attribute 'analyze'",
     "output_type": "error",
     "traceback": [
      "\u001b[1;31m---------------------------------------------------------------------------\u001b[0m",
      "\u001b[1;31mAttributeError\u001b[0m                            Traceback (most recent call last)",
      "Cell \u001b[1;32mIn[5], line 5\u001b[0m\n\u001b[0;32m      2\u001b[0m nouns \u001b[38;5;241m=\u001b[39m []  \u001b[38;5;66;03m#빈 리스트 nouns를 생성합니다. 여기에는 텍스트에서 추출된 명사들이 저장\u001b[39;00m\n\u001b[0;32m      4\u001b[0m \u001b[38;5;28;01mfor\u001b[39;00m sentence \u001b[38;5;129;01min\u001b[39;00m df[\u001b[38;5;124m'\u001b[39m\u001b[38;5;124m문장\u001b[39m\u001b[38;5;124m'\u001b[39m]:   \u001b[38;5;66;03m#df['문장']는 데이터프레임 df의 '문장' 열에 있는 각 문장을 순차적으로 가져옵니다\u001b[39;00m\n\u001b[1;32m----> 5\u001b[0m     tokens \u001b[38;5;241m=\u001b[39m \u001b[43mkiwi\u001b[49m\u001b[38;5;241;43m.\u001b[39;49m\u001b[43manalyze\u001b[49m(sentence)  \u001b[38;5;66;03m#kiwi.analyze(sentence)는 Kiwi 형태소 분석기를 이용해 각 문장을 형태소 분석하여 그 결과를 tokens 변수에 저장\u001b[39;00m\n\u001b[0;32m      6\u001b[0m     \u001b[38;5;28;01mfor\u001b[39;00m token \u001b[38;5;129;01min\u001b[39;00m tokens[\u001b[38;5;241m0\u001b[39m][\u001b[38;5;241m0\u001b[39m]:   \u001b[38;5;66;03m#tokens[0][0]을 통해 분석된 첫 번째 문장의 첫 번째 분석 결과를 순회하면서 각 형태소를 확인\u001b[39;00m\n\u001b[0;32m      7\u001b[0m         \u001b[38;5;28;01mif\u001b[39;00m token[\u001b[38;5;241m1\u001b[39m] \u001b[38;5;241m==\u001b[39m \u001b[38;5;124m'\u001b[39m\u001b[38;5;124mNNG\u001b[39m\u001b[38;5;124m'\u001b[39m \u001b[38;5;129;01mor\u001b[39;00m token[\u001b[38;5;241m1\u001b[39m] \u001b[38;5;241m==\u001b[39m \u001b[38;5;124m'\u001b[39m\u001b[38;5;124mNNP\u001b[39m\u001b[38;5;124m'\u001b[39m:  \u001b[38;5;66;03m# 일반 명사와 고유 명사인 경우에만 해당 형태소를 다음 단계에서 처리\u001b[39;00m\n",
      "\u001b[1;31mAttributeError\u001b[0m: module 'kiwi' has no attribute 'analyze'"
     ]
    }
   ],
   "source": [
    "# 형태소 분석 및 명사 추출\n",
    "nouns = []  #빈 리스트 nouns를 생성합니다. 여기에는 텍스트에서 추출된 명사들이 저장\n",
    "\n",
    "for sentence in df['문장']:   #df['문장']는 데이터프레임 df의 '문장' 열에 있는 각 문장을 순차적으로 가져옵니다\n",
    "    tokens = kiwi.analyze(sentence)  #kiwi.analyze(sentence)는 Kiwi 형태소 분석기를 이용해 각 문장을 형태소 분석하여 그 결과를 tokens 변수에 저장\n",
    "    for token in tokens[0][0]:   #tokens[0][0]을 통해 분석된 첫 번째 문장의 첫 번째 분석 결과를 순회하면서 각 형태소를 확인\n",
    "        if token[1] == 'NNG' or token[1] == 'NNP':  # 일반 명사와 고유 명사인 경우에만 해당 형태소를 다음 단계에서 처리\n",
    "            nouns.append(token[0])  #명사로 판별된 형태소(단어)를 nouns 리스트에 추가\n",
    "nouns"
   ]
  },
  {
   "cell_type": "code",
   "execution_count": null,
   "metadata": {},
   "outputs": [],
   "source": [
    "# 한글자 단어 제거하기 (예:내, 저, 것 등등)\n",
    "filtered_nouns = [word for word in nouns if len(word) >= 2]"
   ]
  },
  {
   "cell_type": "code",
   "execution_count": null,
   "metadata": {},
   "outputs": [],
   "source": [
    "# 불용어 제거\n",
    "stopwords = set(['엣팁'])\n",
    "filtered_nouns = [word for word in filtered_nouns if word not in stopwords]"
   ]
  },
  {
   "cell_type": "code",
   "execution_count": null,
   "metadata": {},
   "outputs": [],
   "source": [
    "# 단어 빈도수 계산\n",
    "word_counts = Counter(filtered_nouns)"
   ]
  },
  {
   "cell_type": "code",
   "execution_count": null,
   "metadata": {},
   "outputs": [],
   "source": [
    "# 시각화 - 그래프\n",
    "common_words = word_counts.most_common(10)\n",
    "words, counts = zip(*common_words)\n",
    "\n",
    "plt.rc('font', family='NanumBarunGothic')\n",
    "plt.figure(figsize=(10, 6))\n",
    "colors = ['C0', 'C1', 'C2', 'C3', 'C4', 'C5', 'C6', 'C7', 'C8', 'C9']\n",
    "plt.bar(words, counts, color=colors)\n",
    "\n",
    "plt.xlabel('Words')\n",
    "plt.ylabel('Frequency')\n",
    "plt.title('Top 10 Words')\n",
    "plt.savefig('my_bar.png', format='png')\n",
    "plt.show()"
   ]
  },
  {
   "cell_type": "code",
   "execution_count": null,
   "metadata": {},
   "outputs": [],
   "source": [
    "# 워드 클라우드 생성\n",
    "wordcloud = WordCloud(font_path='BMDOHYEON_ttf.ttf',\n",
    "                      width=800, height=400,\n",
    "                      background_color='white', mask = mask_img).generate_from_frequencies(word_counts)"
   ]
  },
  {
   "cell_type": "code",
   "execution_count": null,
   "metadata": {},
   "outputs": [],
   "source": [
    "# 시각화 - 워드 클라우드\n",
    "plt.figure(figsize=(10, 6))\n",
    "plt.imshow(wordcloud, interpolation='bilinear')\n",
    "plt.axis('off')\n",
    "plt.title('Wordcloud')\n",
    "plt.savefig('my_wordcloud.png', format='png')\n",
    "plt.show()"
   ]
  },
  {
   "cell_type": "code",
   "execution_count": null,
   "metadata": {},
   "outputs": [],
   "source": []
  }
 ],
 "metadata": {
  "kernelspec": {
   "display_name": "Python 3",
   "language": "python",
   "name": "python3"
  },
  "language_info": {
   "codemirror_mode": {
    "name": "ipython",
    "version": 3
   },
   "file_extension": ".py",
   "mimetype": "text/x-python",
   "name": "python",
   "nbconvert_exporter": "python",
   "pygments_lexer": "ipython3",
   "version": "3.12.1"
  }
 },
 "nbformat": 4,
 "nbformat_minor": 2
}
